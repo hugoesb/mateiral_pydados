





# Versão do Python utilizada neste material
import sys
sys.version
































1.222 + 5.32  # Soma


3 * 5.5  # Multiplicação


7/3  # Divisão


7 // 3 # Divisão com resultado inteiro 


7 % 3  # Resto da divisão


2 ** 4 # Potência





import math
from math import pi, cos

print('pi = ', math.pi)

print('sen(π/2) = ', math.sin(math.pi/2))

print('cos(π/2) = ', cos(pi))

print('Tipo da variável math.pi: ',type(pi))





# Exemplo de utilização de número complexo
c1 = 3 + 4j

print(type(c1))  # Mostrar o tipo de variável

c2 = 5 + 8j

print(c1*c2)  # Resultado da multiplicação de dois complexos 





# Trabalhando com números em forma de fração

from fractions import Fraction

print(Fraction(1,5) + Fraction(4,10) + 1)


# Trabalhando com números binários, hexadecimais e octadecimais

# Print de números no sistema decimal
print(0b101010) # binário
print(0xb0ca)   # hexadecimal
print(0o177)    # octadecimal
print()

# Print de números do sistema decimal em binários, hexadecimais ou octadecimais
print(bin(42))
print(hex(12237514))
print(oct(127))





hex(0b101010 + 100 + 0o177)





# bool -> int -> float -> complex

etcha = True + 2 * 1.1 / 4j
print(etcha)
print(type(etcha))





a = 3
b = 5

a, b = b, a

print('a: ', a)
print('b: ', b)





from statistics import mean, pstdev
# Python aceita Unicode no código para, por exemplo, nomear variáveis
ações = [1,2,3,4,5,6]
µ = mean(ações) 
σ = pstdev(ações)
print('Méidia = ', µ)
print('Desvio padrão = ', σ)





a = 0.1298731
b = 35466.3108012
c = 1231

print(f'Números {a+1}, {b} e {c**2} serão mostrados.')


print(f'Número a {a:.>20.2%} em percentual')
print(f'Número b {b:-<30.2e} expoente')
print(f'Número b {b:*^35,.4f} float')
print(f'Número c {c:"^20_b} em binário')
print(f'Número c {c:^20_b} novamente')


print(f'Número a {a*2:.>20,.2f} foi multiplicado por 2')
print(f'Número b {b*3:.>20,.2f} foi multiplicado por 3')
print(f'Número c {c*4:.>20,.2f} foi multiplicado por 4')





import locale
locale.setlocale(locale.LC_NUMERIC, 'pt_BR')

print(f'Número real {a:n}')
print(f'Número real {b:n}')
print(f'Número inteiro {c:n}')





print(f'{a=} e {b=}')








# Nova variável s como string
s = '!!!   Python é "massa"! Fácil, versátil e 100% grátis.   !!!'
print(s)





print(s.lower())        # Texto em minúsculo
print(s.upper())        # Texto em maiúsculo
print(s.title())        # Texto em formato de título








print(s)
print(s.strip('!'))               # Limpar espaços vazios dos extremos
print(s.rstrip('!'))              # Limpar espaços vazios da direita
print(s.strip('!').strip())       # Limpar espaços e exclamações
s = s.strip('!').strip().upper()  # Limpar espaços, ! e colocar maiúsculo
print(s)


print(s.replace('I', 'i'))  # Substituir I por i
print(s.count('R'))         # Contar quantidade de R
print(s.split())            # Separar usando espaço
print(s.split('R'))         # Separar usando R





import re

#  ?  - 0 ou 1 ocorrências
#  *  - 0 ou mais ocorrências
#  +  - 1 ou mais ocorrências
#  \w - caracteres do alfabeto inglês
#  \W - caracteres que não estão no conjunto definido por \w
#  \d - dígitos numéricos
#  \D - caracteres que não estão no conjunto definido por \d
#  \s - caractere espaço simples
#  \S - caracteres que não estão no conjunto definido por \s
#  \t - caractere tab
#  \n - caractere de nova linha


# Encontrar entre duas e 4 ocorrências consecuticas do dígito 5 
re.findall('5{2,4}', 'adft123555554855759')


# Encotrar número 12 ou 123
re.findall('123?', '123 12 124 132')


# Listar caracteres diferentes de a, b e c que seguem o número 12
# Note que os parênteses neste exemplo servem para definir qual dígito será listado
re.findall('12([^a-c])', '12a 12c 12d 125 13d')


# Encontra números no texto
re.findall('[0-9]+', 'Em 2022 exitiam na Chesf em torno de 3200 funcionários.')


# Encontrar e-mails em um texto
re.findall(r'\b[A-Za-z0-9._%+-]+@[A-Za-z0-9.-]+\.[A-Z|a-z]{2,}\b',
           'Esta semana meu e-mail mudou de funcionario@empresa.gov.br para funcionario@cempresa.com.br.')


# Encontrar mais 3 ou mais dígitos consecutivos que seja formado por 0, 1, 2, 3, 4 ou 5
re.search('[0-5]{3,}', 'adft12354879').group()


# Encontrar mais 3 ou mais dígitos consecutivos que seja formados por números
re.search('\d{3,}', 'adft12354879').group()


# Encontrar mais 3 ou mais dígitos consecutivos que não seja formados por números
re.search('\D{3,}', 'adft12354879').group()


# Separar texto usando caracteres entre a e f 
re.split('[a-f]', '0a3b9z5f99p')


# Separar texto usando string formado de caracteres entre a e f 
re.split('[a-f]+', '0ad3kbd9t')


re.sub(':|;|,', '.', '0:3;9,10')


re.sub('\.+', '.', '0.....3...9..10...............5')














l1 = [1, [2, 'three'], 4.5]  # Lista com número inteiro, float e outra lista
l2 = range(2, 20, 2)  # Lista de números inteiros no intervalo [2,20) com intervalo de 2 elementos
print(l1, '\n')
print(l2, '\n')
print(list(l2), '\n')


lista = ['a', 'b', 'c', 'd', 'e', 'f']


lista.append('c')  # Adicionar "c" na lista
lista


lista.count('c')  # Contar "c" na lista


lista.extend([3,'Python',3.14])  # Expandir lista com outra lista
lista


print(lista)
lista.pop(-1)  # Retirar item de lista por posição (último elemento)
lista.pop(2)  # Retirar item de lista por posição (terceito elemento)
lista.remove('a')
lista.remove(3)
print(lista)


a = [3.14, 5.1, 1.73, 9, 4, 2.7182]
a.sort()
a





import random

random.random()  # Número float randômico


b =['abacate', 'banana', 'côco', 'damasco', 'embaúba', 'figo']

random.shuffle(b) # Misturas a lista b
print(b)

b.sort()  # Ordenar a lista "b"
print(b)

print(random.choice(b))  # Escolhe um dos elementos da lista de forma aleatória

print(random.sample(b, 3))  # Escolhe uma amostra de 3 elementos


sorted(b, key=len)  # Ordenar a lista "b" com base no tamanho da palavra


[1,2,3] + [4,5,6]  # Juntar listas


3 * [1,2,3]  # Repetir listas 





lista = ['a', 'b', 'c', 'd', 'e', 'f']


lista[3]  # Quarto elemento


lista[-2]  # Penúltimo elemento


# Da posição entre b e c até a posição entre penúltimo e último elemento
lista[2:-1]


# Da posição entre a e b, até a posição entre e e f, de dois em dois elementos
lista[1:-1:2]





print(lista[0:3])
print(lista[:3])  # Igual ao anterior


print(lista[3:6])
print(lista[3:])  # Igual ao anterior





lista[::-1]   # Inverte lista, passo = -1





lista[::-1][:-3]  # Da lista invertida, pegar até o antepenúltimo elemento





# Redefinindo calor de elementos
lista[0] = 'Primeiro'
lista[2:4] = ['Bola', 'Casa']
lista





ldel = [['_', '_', '_', '_'], 
             ['_', '_', '_'], 
                  ['_', '_']]
ldel[1][2] = 'X'
ldel





s = '!!!   Python é de "torar"! Fácil, versátil e 100% grátis.   !!!'   
print(s[6:12])
print(s[::-1])


# Salvar os elementos da lista em variáveis independentes 
a, b, c = ['Python', 'C++', 'javascript']

print(a)
print(b)
print(c)





a, b, *c = range(5)  # * => as demais em "c"
print(a)
print(b)
print(c)





a, *b, c = range(5)  # * => as demais em "b"
print(a)
print(b)
print(c)





print(b)
print(*b)
print(b[0], b[1], b[2])





x = [1, 2, 3]
print(f'x = {x}', '\n')

y = x
y_cópia = x.copy()

print(f'Identidade de x       = {id(x)}')
print(f'Identidade de y       = {id(y)}')
print(f'Identidade de y_cópia = {id(y_cópia)}', '\n')


print('Mudando x[0]', '\n')

x[0] = 5

print(f'x = {x}')
print(f'y = {y}')
print(f'y_cópia = {y_cópia}')


x = [1, 2, 3]
y = [1, 2, 3]

print(f'x = {x}')
print(f'y = {y}', '\n')

print(f'Identidade de x = {id(x)}')
print(f'Identidade de y = {id(y)}', '\n')

print('Mudando x[0]', '\n')

x[0] = 5

print(f'x = {x}')
print(f'y = {y}')


a  = 1  # Variável imutável
b  = 1  # Variável imutável

# Os valores de a e b são iguais e estão no mesmo local na memória
print('a is b: ', a is b)
print('a == b: ', a == b)
print()

a1 = [1]  # Variável mutável
b1 = [1]  # Variável mutável

# Os valores de a1 e b1 são iguais, mas não estão no mesmo local na memória
print('a1 is b1: ', a1 is b1)
print('a1 == b1: ', a1 == b1)








tupla = (1, 'spam', 4, 'U')
print(tupla)
(type(tupla))








d = {'Python': 4, 'C++':5, 'R':0}
d


print(d.keys())
print(d.values())


d['Python']


d['Python'] += 1  # d['Python'] = d['Python'] + 1
d


d['Julia'] = 'nova'
d





print(d.get('Python', 'Não achei')) # Se chave Python existir, senão 'Não achei' 
print(d.get('Java', 'Não achei'))   # Se chave Java existir, senão 'Não achei'








A = {'a', 'b', 'c', 'd', 1 , 2, 3, 4}
B = {'c', 'd', 'e', 'f', 3, 4, 5, 6}
C = {'c', 5}

print(type(A))

print(f'A não em B: {A-B}')
print(f'A união B: {A | B}')
print(f'A intersecção B: {A & B}')
print(f'C está contido em  A: {C < A}')
print(f'C está contido em  B: {C < B}')
print(f'ou em A ou em B: {A ^ B}')
print(f'3 pertence a B: {3 in B}')





lista = [1,2,3,4,3,2,3,4,5,3,1,5,6,4,2,7,3,2]
D = set(lista)
D








x = 3

if 1 <= x < 4: # x em [1,4) 
    print('Dentro do intervalo')
elif x%2==0:
    print('Fora do intervalo, mas é par')
elif type(x)==int:
    print('Fora do intervalo, não é par, mas é inteiro')
else:
    print('Fora do intervalo e não é inteiro')


x = 4

if 1 <= x < 4: # x em [1,4) 
    print('Dentro do intervalo')
elif x%2==0:
    print('Fora do intervalo, mas é par')
elif type(x)==int:
    print('Fora do intervalo, não é par, mas é inteiro')
else:
    print('Fora do intervalo e não é inteiro')


ls = []

if ls:
    print('Lista vazia')
else:
    ls.append(4)
    if ls:
        print(f'Agoooora: {ls}')


a = 2
b = 4

if a%2==0 and b%2==0:
    print('Ambos pares') 


print(f'[]: {bool([])!s:>10}')
print(f'(): {bool(())!s:>10}')
print(f'set(): {bool(set())!s:>7}')
print(f'0: {bool(0)!s:>11}')
print(f'"": {bool("")!s:>10}')






k = 1
x = 5 if k==1 else 4
print(x)

k = 0
x = 5 if k==1 else 4
print(x)











for letra in ['a', 'b', 'c']:
    print(letra)


for i in range(5):
    print(5*'-')
    print(f'Valor {i}')
    
print('Acabou o for')


letra_proibida = 'c'

for l in ['a', 'b', 'c', 'd', 'e']:
    if l != letra_proibida:
        print(f'{l}, não é o {letra_proibida}')
    else:
        print(f'Chegou o {letra_proibida}')
        break
else:  # só se não for dado o comando break
    print('Não precisei para')

print('E acabou-se')


letra_proibida = 'f'

for l in ['a', 'b', 'c', 'd', 'e']:
    if l != letra_proibida:
        print(f'{l}, não é o {letra_proibida}')
    else:
        print(f'Chegou o {letra_proibida}')
        break
else:  # só se não for dado o comando break
    print('Não precisei para')

print('E acabou-se')


for n,c in zip([1,2,3], ['a', 'b','c']):  # Juntar duas listas no for
    print(f'Número {n} e letra {c}')


for n,c in zip([1,2,3,4], ['a', 'b','c','d']):
    print(n*c)


# for dentro de for
for n in [1,2,3]:
    for c in ['a', 'b','c']:
        print(n*c)


for n,c in enumerate(['a', 'b','c', 'd', 'e']):  # Enumenração de elementos
    print(f'{n+1}) letra {c}')


k = 0
while k <= 5:
    print(f'O número é {k}')
    k += 1





# Lista com números de 0 a 9
lista = range(10)

# Para cada valor da lista, transformar em string e repetir 3 vezes
[str(i)*3 for i in lista]


multi = []
for i in range(1,5):
    for j in range(11,15):
        multi.append(i*j)
multi


# Equivalente a estrutura anterior
[i*j for i in range(1,5) for j in range(11,15)]


par_pow = []
for i in lista:
    if i%2==0:
        par_pow.append(i**2)
par_pow


# Equivalente a estrutura anterior
[i**2 for i in lista if i%2==0]


# Produto Cartesiano de listas
[(i,j) for i in 'abcd' 
       for j in range(4)]


# Dicionário
{k:v**2 for k,v in zip('abcdef', range(1,7))}


# Tupla
tupla  = (abs(i) for i in range(-3,4))
print(type(tupla))
print(list(tupla))





fx = lambda x: x**2 -3*x + 5

print(fx(10))

print(list(map(fx, [1,2,3,4,5])))


def tratar(s):
    s = str(s).upper()
    s = s.replace('4', 'X')
    return 'EQ: ' + s

print(tratar('04de'))

entrada = ['05c1', '03T2', '04p2', '14d1']
print(list(map(tratar, entrada)))





try:
    print('Vamos ver se Python é bom mesmo')
    print(2 * 'Python')
except:
    print('Aí tais querendo muito')
else:
    print('Deu certo')

print('Teste finalizado')





try:
    print('Vamos ver se Python é bom mesmo')
    print(2 + 'Python')
except:
    print('Aí tais querendo muito')
else:
    print('Deu certo')

print('Teste finalizado')





def func1(a=2, b=3):
    return a**b

print(func1(3,4))       # 3**4
print(func1())          # 2**3
print(func1(b=2))       # 2**2
print(func1(3))         # 3**3
print(func1(b=3,a=4))   # 4**3


def func2(a, b, *c):
    print(a,b)
    print(c)
    return a**b + sum(c)

func2(2, 3, 4, 5, 6)  # 2**3 + (4+5+6)


def factorial(n):
    if n<2:
        return 1
    else:
        return n * factorial(n-1)

factorial(5)














from pylab import *


# Versão do NumPy utilizada neste material
np.__version__


import sys
x1 = linspace(0, 2*pi, 128)  # Array de 0 a 2pi com 128 amostras
x2 = [float(i) for i in x1]  # Lista baseado em x1 com elementos float
print('x1:', type(x1), 'com elementos do tipo ', x1.dtype)
print('x2:', type(x2), 'com elementos do tipo ', type(x2[0]))





x1 = linspace(0, 10*pi, 10000)  # Array de 0 a 10pi com 10.000 amostras
x2 = [float(i) for i in x1]     # Lista baseado em x1 com elementos float

print(f'Tipo de x1: {type(x1)}')
print(f'Tipo de x2: {type(x2)}')


%timeit x1**2


def fsqrt(x):
    list_temp = []
    for i in x:
        list_temp.append(i**2)
    return list_temp

%timeit fsqrt(x2)





# Criando array 
a = array([[10, 2, 1],
              [1, 5, 1],
              [2, 3, 10]])  # ndarray 3x3
b = arange(0, 20, 0.5).reshape(8, 5) # (8, -1) seria calculado as 5 colunas 
c = linspace(0, 2*np.pi, 32)
d = ones([3,3], dtype=complex)  # dtype poderia ser usado nas outras técnicas


print(a)
print()
print(b)
print()
print(c)
print()
print(d)





savetxt('matr.dat', b)

b1 = loadtxt('matr.dat') 

print(b1)  # Mostrar os valores do ndarray b1
print()
print(f'Tipo de dados em b1: {b1.dtype}')  # Tipo dos dados salvo no ndarray b1 





# ndarray com inteiros de 8 bits (inteiros de -128 a 127)
a1 = array([[10, 2, 1, 5, 20],
            [1, 5, 1, 20, 18],
            [2, 3, 10, 8, 40],
            [7, 2, 50, 2, 50],
            [0, 8, 15, 9, 3]], dtype=int8)

a2 = array([[10, 2, 1, 5, 20],
            [1, 5, 1, 20, 18],
            [2, 3, 10, 8, 40],
            [7, 2, 50, 2, 50],
            [0, 8, 15, 9, 3]])

a1s = sys.getsizeof(a1)  # Memória utilizada em x1
a2s = sys.getsizeof(a2)  # Memória utilizada em x2
print(f'a1 com elementos {a1.dtype} está usando {a1s:_d} bytes')
print(f'a2 com elementos {a2.dtype} está usando {a2s:_d} bytes')
print(f'a2 está usando {a2s/a1s:.2f} mais memória que a1')





print(iinfo(uint8))  # Inteiro positivos de 8 bits
print(iinfo(int8))
print(iinfo(int64))

print('\n\n')

print(finfo(float16))
print(finfo(float64))














b





b.mean()  # Média de b


b.mean(axis=0) # Média das colunas


b.mean(axis=1) # Média das linhas





b.std(axis=1)  # Desvio padrão populacional de cada linha 





b.std(1, ddof=1)  # Desvio padrão amostral de cada linha


print(b, '\n')
print(b.cumsum(axis=0))  # Soma acumulada das colunas








b


b[0,:]  # Primeira linha


b[:,1]  # Segunda coluna


b[1:3,1:3]  # Elementos b22, b23, b32 e b33


b[:,[[1,4]]]  # Segunda e Quinta colunas


b[[0,-1]]  # Primeira e última linha





b>15


b[b>15]  # Elementos de b tal que elemento maior que 15


print(b, '\n')
print(b[(b>1) & (b<10)], '\n')
print(b[(b>1) & (b<10)].sum())  # Soma dos números pertencentes a (1,10)





b[:,2] = b[:,2]**2  # Terceira coluna ao quadrado
b


b[b>50] = 0
b








a


5*a + a**2


a + 5





a * array([1.2,2.3, 3.4]) # Array (3,3) multiplicado por Array (1,3)


print(a * a, '\n')  # Multiplicação elemento a elemento
print(a @ a, '\n')  # Multiplicação de matriz a por matriz a
print(a.dot(a))     # Equivalente ao código da linha anterior


print(type(a))
print(type(np.sin))  # Universal function
print(np.sin(a),'\n')
print(np.rad2deg(np.sin(a)),'\n')








f = array([1,2,3,5,6,4,5,6,7,4,5,6,7,8,5,3,5,6,8,9,9,5,4,4])


unique(f)


histogram(f, bins=6)


roots([  1,  -9,  26, -24])  # Raizes de x**3 - 9*x*2 + 26*x - 24


# Regressão Linear

x = [ 1,  3,  5,  7,  9, 11, 13, 15, 17, 19, 21, 23, 25, 27, 29]
y = [ 10, 12, 22, 24, 32, 39, 41, 55, 56, 60, 70, 72, 81, 87, 90]

polyfit(x,y, 1) # Regressão em polinômio de ordem 1 (regressão linear)





polyfit(x,y, 2) # Regressão em polinômio de ordem 2








A = array([[10, 0.5, 0.6, 3, 2, 3],
             [1, 10, 0.8, 2, 3, 1],
             [3, 1, 13, 5, 2, 1],
             [4, 2, 1, 15, 3, 4],
             [1, 0.5, 0.6, 0.3, 9, 5],
             [3, 2, 3, 1, 4, 15]])

B = array([ 48.5,  55 , 101 , 105 ,  54.7, 126 ])

solve(A, B)








# Utilizando @ o Python entendo que é multiplicação de Matrizes com os ndarray
inv(A) @ B





det(A)  # Determinante da Matriz


inv(A)  # Inversa da matriz


pinv(A)  # Moore-Penrose pseudo-inversa da matriz





from pylab import *

matplotlib.__version__





x = linspace(0, 2*pi, 16)  # Array no intervalo [0,2pi) dividido em 16 amostras
y = sin(x) # calcula sen de todo o dnarray x

plot(x,y)  # Plotar curva do sen
show()  # Mostrar gráfico





θ = linspace(0, 2*pi, 32)  # Array no intervalo [0,2π) dividido em 32 amostras
ys = θ * sin(θ) # calcula seno de todo o dnarray, multiplicado pelo valor de θ
yc = cos(θ) # calcula cosseno de todo o dnarray θ

figure(figsize=(12,5), dpi=300)  # Redimensionar figura e aumentar resolução
plot(θ,ys, label='$x \\cdot sin(\\theta)$')   # Plotar curva do sen com legenda em LaTeX
axhline(0, color='black') # Plotar eixo x na cor preta
axvline(0, color='black') # Plotar eixo y na cor preta
plot(θ,yc, 'ro', label='$cos(\\theta)$')  # Plotar curva do cos com legenda "cos" utilizando marcador de ponto na cor vermelha
title('Funções')  # Definir título do gráfico
xticks(θ[::2])  # Colocar de 2 em 2 valores de θ no eixo x
xlabel('Ângulo $\\theta$ em radiano')  # Definir legenda do eixo x
ylabel('Valor')  # Definir legenda do eixo y
legend()  # Ativar legenda
grid()    # Ativar grid
show()    # Mostrar gráfico








plt.style.use('bmh')

x = linspace(0, 2*pi, 32)  # Array no intervalo [0,2pi) dividido em 32 amostras

def f(x): # definindo função a ser plotada
    return 3*np.sin(x) + np.sin(3*x)

# Criando dois gráficos em uma linha e duas colunas
fig, axs = subplots(1, 2, figsize=(15,4))
# Plotar função cor azul em formato de diamante
axs[0].plot(x,f(x), 'bd')
# Plotar função negativa cor azul em formato de triângulo
axs[1].plot(x,-f(x), 'g^')
show()


f = array([1,2,3,5,6,4,5,6,7,4,5,6,7,8,5,3,5,6,8,9,9,5,4,4])
figure(figsize=(8,3))
hist(f, bins=6)
show()





randint(100, size=(3, 5))  # Array com interos de 0 a 100 com dimensão 3x5b





rand(10)  # Array com 10 números aleatórios entre 0 e 1


# Escolha com probabilidade definida por elemento

# Dados de 100 números seguindo probailidade definida
# Números 3, 5 e 7 com probabilidade 0.15 e número 9 com prob. de 0.55
dados = np.random.choice([3, 5, 7, 9], p=(.15,.15,.15,.55), size=100)

plt.figure(figsize=(10,4))  # Definir tamanho do gráfico
plt.hist(dados, density=True)  # Plotar histograma
plt.show()





bins = 50
media = 10
n = 1000 # Número de amostra

dc = dict()
dc['Binomial'] = binomial(2, 0.3, n)      # (tamanho, probabilidade, tamanho)
dc['Geométrica'] = geometric(0.3, n)      # (propabilidade, tamanho)
dc['Poisson'] = poisson(3, n)             # (lambda, tamanho)
dc['Uniforme'] = uniform(9,11,n)          # (mínimo, máximo, tamanho)
dc['Triangular'] = triangular(9,9.5,11,n) # (mínimo, moda, máximo, tamanho)
dc['Normal'] =  normal(media,1,n)         # (média, desvio padrão, tamanho)
dc['Expoencial'] =  exponential(media,n)  # (média, tamanho)
dc['Gamma'] =  gamma(1,media,n)           # (alpha, beta, tamanho)
dc['Beta'] = beta(6,3,n)                  # (alpha, beta, tamanho)
dc['Pareto'] = pareto(8,n)                # (forma, tamanho)
dc['Weibull'] = weibull(10,n)             # (alpha, tamanho)
dc['Power'] = power(5,n)                  # (formato, tamanho)
             
fig = figure(figsize=(12,15))
rcParams['font.size'] = 8  # Definindo tamanho da fonte
for i, label in enumerate(dc.keys()): 
    ax1 = fig.add_subplot(4, 3, i+1) # 4 linha, 3 colunas, sequencial 
    ax1.hist(dc[label], bins, label=label)
    ax1.set_ylabel('Ocorrencias')
    ax2 = ax1.twinx()  # Criar segundo eixo de ordenada
    ax2.hist(dc[label], bins, density=True, cumulative=True, 
             alpha=0.2, label='Acumulado', color='g')  # Histograma Cumulativo
    ax2.set_ylabel('Indice')
    title(label)

show()








texto = 'Python'
print(type(texto))





from pylab import *

class Esfera:
    def __init__(self, r, cor='preta'):  # Método Dunder Construtor 
        self.r = r  # Atributo declarado
        self.cor = cor  # Atributo declarado
        
    def area(self):  # Método
        return 4 * pi * self.r**2
    
    def volume(self):  # Método
        return 4/3 * pi * self.r**3





esfera1 = Esfera(4)

print(f'Área: {esfera1.area()}')
print(f'Volume: {esfera1.volume()}')
print(f'Cor: {esfera1.cor}')


esfera2 = Esfera(2, 'branca')

print(f'Área: {esfera2.area()}')
print(f'Volume: {esfera2.volume()}')
print(f'Cor: {esfera2.cor}')





dir(esfera2)





class Impedancia:
    def __init__(self, R, L, C, f):  # Método Dunder Construtor 
        self.R = R  # Atributo declarado
        self.__L = L  # Atributo declarado Encapsulado
        self.__C = C  # Atributo declarado Encapsulado
        self.f = f  # Atributo declarado
        self.ω = 2*pi*self.f  # Atributo calculado
    
    def xc(self):  # Método
        return (self.ω*self.__C)**-1

    def xl(self):  # Método
        return self.ω*self.__L

    def Z(self):  # Método
        X = (self.xl() - self.xc())
        return complex(self.R, X)
    
    def conteudo(self):
        return [i for i in dir(self) if not i.startswith('_')] 


Z = Impedancia(R=10, L=0.1, C=1e-3, f=60)  # Z: instância, Impedância: classe

print('Resistência: ',   Z.R)           # Atributo Resistência
print('Reatâmcia Capacitiva: ', Z.xc()) # Método cálculo da reatância capacitiva
print('Reatâmcia Indutiva: ', Z.xl())   # Método cálculo da reatância indutiva
print('Impedância: ', Z.Z())            # Método cálculo da impedância


Z1 = Impedancia(R=5, L=0.2, C=5e-3, f=50)
print('Resistência: ',   Z1.R)           # Atributo Resistência
print('Reatâmcia Capacitiva: ', Z1.xc()) # Método cálculo da reatância capacitiva
print('Reatâmcia Indutiva: ', Z1.xl())   # Método cálculo da reatância indutiva
print('Impedância: ', Z1.Z())


Z1.conteudo()





class Teste:
    def __init__(self, a):
        self.a = a

    def __eq__(self,b):
        print('ôxe, que pergunta da gota!!!')
        return b == self.a**2

A = Teste(3)
print(A == 9)
print(A == 3)
print()
print(A.a == 9)
print(A.a == 3)


# Lista com indice começando de 1 e não 0
class Lista(list):
    def __init__(self, lista):
        self.lista = lista
    
    def __getitem__(self, posicao):
        if type(posicao)==int:
            return list(self.lista)[posicao-1]

        if type(posicao)==slice:
            return list(self.lista)[posicao.start-1:posicao.stop-1:posicao.step]
    
    def __call__(self, n):
        return self.lista[0: n]


B0 = [1,2,3,4,5]
B1 = Lista([1,2,3,4,5])

print(B0[4], B1[4])
print(B0[1:4:2], B1[1:4:2])


B1(3)








import pandas as pd
import matplotlib.pyplot as plt
import numpy as np

# Limitar números de registros a ser exibido em tela
pd.options.display.max_rows = 15 


pd.__version__








datas = pd.date_range('2023-01-01', periods=30)

# DataFrame com dados randômicos com 30 linhas e 4 colunas, indexador de datas e colunas de A a D
df = pd.DataFrame(np.random.randn(30, 4), index=datas, columns=['A', 'C', 'B', 'D'])

df





type(df)


type(df.A)


type(df.A.values)


df = df[['A', 'B', 'C', 'D']]  # Reordenando colunas


df.head()  # Primeiras 5 linhas


df.tail()  # Últimas 5 linhas


df.sample(5)  # Amostra de 5 linhas


df.columns  # Nome das colunas


df.index  # Lista de indexadores do df


df.values  # valores do df em um ndarray


df.info()  # Informações básicas de cada coluna





df.mean()  # Média das linha mostrada por coluna


df.mean(1)  # Média das colunas, mesmo que df.mean('columns')


df.mean().mean() #  Média das médias





df = df.assign(E=df.mean(1)) # Criação de nova coluna E com valores médios


# Outra forma de criar coluna em um DataFrame
df.insert(5,'F', np.sign(df['E']))


df.head(10) # Listar as primeiras 10 linhas


df['G'] = df['A']*df['B'] + df['C']  # calcula nova coluna G = A*B + C


df.sample(6)


# Trocar valor -1 por Neg e 1 por Pos
df['F'].replace({-1: 'Neg', 1: 'Pos'}, inplace=True)


df.head()


# Seleção por index e nome de colunas
# df.loc[<intervalo de index>, <nome de colunas>]
df.loc['2023-01-05':'2023-01-15':, ['B', 'E']]  


# Seleção por índice
# df.iloc[<intervalo de linhas>, <colunas>]
df.iloc[4:15, [1,3]]


# df.loc[<critério de seleção de linha>, <nome da colunas>] = <novo valor>
df.loc[df['C']<0, 'B'] = 0 


df.loc[:,['B','C']].head(8)





df.groupby('F').mean()


df.F.value_counts()


# Resultado em valor normalizado (entre 0 e 1)
df.F.value_counts(normalize=True)


# Valores divididos em 3 intervalos e contar para cada intervalo
df.A.value_counts(bins=3) 











df_m5 = pd.read_csv('FATOR_CAPACIDADE-2_2022_05.csv', sep=';')
df_m5.head()


df_m5.info()


df_m6 = pd.read_excel('FATOR_CAPACIDADE-2_2022_06.xlsx')
df_m6.info()





# Concatenar Data Frames
dfc = pd.concat([df_m5, df_m6])

dfc.info()


dfc.memory_usage(deep=True)  # Uso de memória de cada coluna 





# Redefinir tipo de cada coluna com intuito de diminuir memória
# Esta definição poderia ser feita no momento da criação do df
dic_dtype = {'id_subsistema': 'category',
            'nom_subsistema': 'category',
            'id_estado': 'category',
            'nom_estado': 'category',
            'nom_pontoconexao': 'category',
            'nom_localizacao': 'category',
            'val_latitude': np.float32,
            'val_longitude': np.float32,
            'nom_modalidadeoperacao': str,
            'nom_tipousina': 'category',
            'nom_usina_conjunto': str,
            'din_instante':'datetime64[ns]',
            'val_geracao': np.float32,
            'val_capacidadeinstalada': np.float32,
            'val_fatorcapacidade': np.float32}
dfc1 = dfc.astype(dic_dtype)  # Redefinindo datatype das colunas 
dfc1.index = dfc1.index.astype(np.int32)  # Redefinindo datatype do index


dfc1.info()


print('Memória dfc1 / dfc: ', end='')
print(f'{dfc1.memory_usage().sum() / dfc.memory_usage().sum():.2%}')
print()
print(dfc1.memory_usage(deep=True)  / dfc.memory_usage(deep=True))


df_ansi = pd.read_html('http://engelco.com.br/tabela-ansi/')[0] 
df_ansi





df_ff = pd.read_fwf('faithful.dat')
df_ff.head()





cod_bcb = 433 # IPCA
url = f'http://api.bcb.gov.br/dados/serie/bcdata.sgs.{cod_bcb}/dados?formato=json'
df_ipca = pd.read_json(url)
df_ipca.tail(10)


df_ipca.info()


# Transformar coluna data em formaro datetime
df_ipca['data'] = pd.to_datetime(df_ipca['data'], dayfirst=True)

# Defino coluna data como indice do data frame
df_ipca.set_index('data', inplace=True)

# Trocar nome da coluna "valor" para "ipca"
df_ipca.columns = ['ipca']

# Tambem se pode renomear usando função rename
df_ipca.tail()


df_ipca.info()


df_ipca.loc['2022-01-01':'2022-12-01'].describe()





# Gráfico histórico do IPCA
df_ipca.plot(figsize=(12,5))
plt.show()


# Gráfico IPCA 2022
df_ipca.loc['2022-01-01':'2022-12-01'].plot(figsize=(12,5))
plt.show()


# IPCA entre janeiro de 2023 até último registro
df_ipca.loc['2023-01-01':]


df_ipca_4a = df_ipca.loc['2020-01-01':]


# Refazer amostra de forma anual usando média do IPCA
df_ipca_4a.resample('Y').mean()


df_ipca_4a.resample('Y').mean().plot.bar(figsize=(12,5))
plt.plot()


df_ipca_4a.plot.hist(figsize=(12,5))
plt.plot()


print(df_ipca_4a.describe().T)
df_ipca_4a.plot.box(showmeans=True, figsize=(3,6))
plt.show()


# Somar unidade a cada índice e calcular inflação acumulada em 2022
print('***',2023,'***')
print((df_ipca.loc['2023-01-01':]/100 + 1).apply(np.cumprod))
print()
print('***',2022,'***')
print(((df_ipca.loc['2022-01-01':'2023-01-01']/100 + 1).apply(np.cumprod)))





plt.style.use('ggplot')
fig, ax = plt.subplots(figsize=(12,6))
df_ipca_4a.plot(ax=ax)
df_ipca_4a.rolling(window=3).mean().plot(ax=ax, style='g:')
ax.legend(['IPCA', 'Média Móvel (3 meses)']);


fig, ax = plt.subplots(figsize=(12,6))
df_ipca_4a.plot(ax=ax)
df_ipca_4a.diff().plot(ax=ax, style='g:')
ax.legend(['IPCA', 'Diferença']);


print(df_ipca_4a.ipca.autocorr())
plt.figure(figsize=(12,6))
pd.plotting.autocorrelation_plot(df_ipca_4a)
plt.show()


cod_bcb = 189 # IGP-M
url = f'http://api.bcb.gov.br/dados/serie/bcdata.sgs.{cod_bcb}/dados?formato=json'
df_igpm = pd.read_json(url)
df_igpm['data'] = pd.to_datetime(df_igpm['data'], dayfirst=True)
df_igpm.set_index('data', inplace=True)
df_igpm.rename(columns={'valor': 'igpm'}, inplace=True)
df_igpm.info()
df_igpm.tail()


cod_bcb = 191 # IPC-BR
url = f'http://api.bcb.gov.br/dados/serie/bcdata.sgs.{cod_bcb}/dados?formato=json'
df_ipcbr = pd.read_json(url)
df_ipcbr['data'] = pd.to_datetime(df_ipcbr['data'], dayfirst=True)
df_ipcbr.set_index('data', inplace=True)
df_ipcbr.columns=['ipcbr']
df_ipcbr.info()
df_ipcbr.tail()


print(f'IPCA:  {df_ipca.index.min()}', 
     f'IGPM:  {df_igpm.index.min()}', 
     f'IPCBR: {df_ipcbr.index.min()}', sep='\n')





# Pegamos como base IPCBR que é o que tem menos dados históricos
# Juntar com dados do IPCA
df_indices = pd.merge(df_ipcbr, df_ipca, how='left', 
                      left_index=True, right_index=True)
df_indices.info()


# Juntar base de IGPM com dados de IPCBR e IPCA
df_indices = df_indices.merge(df_igpm, how='left', 
                              left_index=True, right_index=True)
df_indices.info()


df_4a = df_indices.loc['2020-01-01':]


# Correlação das colunas
df_4a.corr()


df_4a.describe()


df_4a.describe(percentiles=[.10, .25, .5, .75, .9]).T


df_4a.query('igpm > 3')


df_4a.query('igpm > 3 and ipca > 0.85')


df_4a.plot(figsize=(12,5))
plt.show()


df_4a.plot(subplots=True, figsize=(12,5))
plt.show()


print(df_4a.describe().T)
plt.style.use('bmh')
df_4a.plot.box(showmeans=True)
plt.show()


df_4a.hist(bins=12, layout=(1,3), figsize=(16,4))
plt.show()








import seaborn as sns
sns.__version__


print(df_4a.corr())  # Tabela de Correlação
sns.set_theme(style="ticks")
sns.pairplot(df_4a)


sns.pointplot(df_4a)


plt.figure(figsize=(6,8))
sns.violinplot(data=df_4a)
plt.show()


sns.heatmap(df_4a)


plt.figure(figsize=(6, 8))  # Definir tamanho da figura
plt.rc('ytick', labelsize=8)  # Definir tamanho de fonte do eixo y
sns.heatmap(df_4a, yticklabels=df_4a.index.strftime('%Y:%m'))

















import this
